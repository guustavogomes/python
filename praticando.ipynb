{
 "cells": [
  {
   "cell_type": "markdown",
   "id": "319e6130",
   "metadata": {},
   "source": [
    "# TREINANDO EM PYTHON\n",
    "###### Abaixo um série de algoritmos com objetivo exclusivo de aprender a linguagem python"
   ]
  },
  {
   "cell_type": "code",
   "execution_count": null,
   "id": "f4c91766",
   "metadata": {},
   "outputs": [],
   "source": [
    "func1 = 1000\n",
    "func2 = 770\n",
    "func3 = 2700\n",
    "meta = 1000\n",
    "valor = 0\n",
    "\n",
    "if func1 >= meta:\n",
    "    valor = func1 * 10 / 100\n",
    "    print('Funcionario 1 bateu sua meta! Sua comissão será de:')\n",
    "else:\n",
    "    print('Funcionario 1 não bateu sua meta!')\n",
    "\n",
    "if func2 >= meta:\n",
    "    valor = func2 * 10 / 100\n",
    "    print('Funcionario 2 bateu sua meta! Sua comissão será de: {}'.format(valor))\n",
    "else:\n",
    "    print('Funcionario2 não bateu sua meta!')  \n",
    "          \n",
    "if func3 >= meta:\n",
    "    valor = func3 * 10 / 100\n",
    "    print('Funcionario 3 bateu sua meta! Sua comissão será de: {}'.format(valor))\n",
    "else:\n",
    "    print('Funcionario 3 não bateu sua meta!')          \n",
    "              "
   ]
  },
  {
   "cell_type": "code",
   "execution_count": null,
   "id": "631f18db",
   "metadata": {},
   "outputs": [],
   "source": [
    "#Controle de Estoque\n",
    "###### Simular um controle de estoque de uma empresa"
   ]
  },
  {
   "cell_type": "code",
   "execution_count": 2,
   "id": "3e6a57a2",
   "metadata": {},
   "outputs": [
    {
     "name": "stdout",
     "output_type": "stream",
     "text": [
      "Favor solicitar o produto sabao pois temos apenas 1 e o estoque mínimo é 30\n"
     ]
    }
   ],
   "source": [
    "produto = input(\"Qual o nome do produto? \")\n",
    "if produto:\n",
    "    estoque = input(\"Qual o quantidade do produto? \")\n",
    "    if estoque:\n",
    "        categoria = input(\"Qual a categoria do produto? \")\n",
    "        if categoria:\n",
    "            if categoria == 'bebida' and int(estoque) < 75:\n",
    "                print(\"Favor solicitar o produto {} pois temos apenas {} e o estoque mínimo é 75\".format(produto,estoque,75))\n",
    "            elif categoria =='alimento' and int(estoque) < 50:\n",
    "                print(\"Favor solicitar o produto {} pois temos apenas {} e o estoque mínimo é 50\".format(produto,estoque,50))\n",
    "            elif categoria == 'limpeza' and int(estoque) < 30:\n",
    "                print(\"Favor solicitar o produto {} pois temos apenas {} e o estoque mínimo é 30\".format(produto,estoque,30))\n",
    "            else:\n",
    "                pass\n",
    "        else:\n",
    "            print(\"Categoria deve ser informado!!! \")            \n",
    "    else:\n",
    "        print(\"Estoque deve ser informado!!! \")\n",
    "        \n",
    "else:\n",
    "    print(\"O nome do produto deve ser preenchido!!!\")\n",
    "    \n"
   ]
  }
 ],
 "metadata": {
  "kernelspec": {
   "display_name": "Python 3.10.5 64-bit",
   "language": "python",
   "name": "python3"
  },
  "language_info": {
   "codemirror_mode": {
    "name": "ipython",
    "version": 3
   },
   "file_extension": ".py",
   "mimetype": "text/x-python",
   "name": "python",
   "nbconvert_exporter": "python",
   "pygments_lexer": "ipython3",
   "version": "3.10.5"
  },
  "vscode": {
   "interpreter": {
    "hash": "931167859c8386cd9d9fb07e95da52cdb2a738b8922eac21c10f09d3312b7fc1"
   }
  }
 },
 "nbformat": 4,
 "nbformat_minor": 5
}
